{
 "cells": [
  {
   "cell_type": "markdown",
   "metadata": {
    "id": "ddT833e7V-AQ"
   },
   "source": [
    "# **M**odel **U**ncertainty-based Data **Augment**ation (muAugment)\n",
    "\n",
    "<a rel=\"license\" href=\"http://creativecommons.org/licenses/by-nc-sa/4.0/\"><img alt=\"Creative Commons License\" align=\"left\" src=\"https://i.creativecommons.org/l/by-nc-sa/4.0/80x15.png\" /></a>&nbsp;| <a href=\"https://supaerodatascience.github.io/deep-learning/\">https://supaerodatascience.github.io/deep-learning/</a>"
   ]
  },
  {
   "cell_type": "markdown",
   "metadata": {
    "id": "0ceA2mtwfe5n"
   },
   "source": [
    "## Preliminary work for colab"
   ]
  },
  {
   "cell_type": "markdown",
   "metadata": {
    "id": "KetLjFs8fe5p"
   },
   "source": [
    "**This notebook was written in google colab, so it is recommended that you run it in colab as well.**"
   ]
  },
  {
   "cell_type": "markdown",
   "metadata": {
    "id": "qiQieUtAfe5q"
   },
   "source": [
    "<a href=\"https://colab.research.google.com/github/AnonymousSDD/muAugment/blob/main/muAugment.ipynb\">\n",
    "  <img src=\"https://colab.research.google.com/assets/colab-badge.svg\" alt=\"Open In Colab\"/>\n",
    "</a>"
   ]
  },
  {
   "cell_type": "markdown",
   "metadata": {
    "id": "wagI_BTRfe5r"
   },
   "source": [
    "Before starting to work on the notebook, make sure you `change the Runtime type` to **GPU**, in the `Tool` drop menu."
   ]
  },
  {
   "cell_type": "markdown",
   "metadata": {
    "id": "wMucT9Ovfe5r"
   },
   "source": [
    "In colab, please execute first the following cells, to retrieve the GitHub repository content. "
   ]
  },
  {
   "cell_type": "code",
   "execution_count": 1,
   "metadata": {
    "colab": {
     "base_uri": "https://localhost:8080/"
    },
    "id": "snM7ennhfe5s",
    "outputId": "8d53033f-f940-4cd4-9014-b4b479d54303"
   },
   "outputs": [
    {
     "name": "stdout",
     "output_type": "stream",
     "text": [
      "fatal: destination path 'muAugment' already exists and is not an empty directory.\n"
     ]
    }
   ],
   "source": [
    "!git clone https://github.com/AnonymousSDD/muAugment/"
   ]
  },
  {
   "cell_type": "markdown",
   "metadata": {
    "id": "tKZwuLvyfe5s"
   },
   "source": [
    "## Preliminary Imports"
   ]
  },
  {
   "cell_type": "code",
   "execution_count": 2,
   "metadata": {
    "id": "Nh8aq4WOfe5t"
   },
   "outputs": [],
   "source": [
    "# !pip install matplotlib"
   ]
  },
  {
   "cell_type": "code",
   "execution_count": 3,
   "metadata": {
    "id": "vxCgxBs8fe5u"
   },
   "outputs": [],
   "source": [
    "# !pip install torch torchvision"
   ]
  },
  {
   "cell_type": "code",
   "execution_count": 4,
   "metadata": {
    "id": "dVpf11I-pMxE"
   },
   "outputs": [],
   "source": [
    "import torch\n",
    "import torchvision\n",
    "import numpy as np\n",
    "%matplotlib inline\n",
    "import matplotlib.pyplot as plt"
   ]
  },
  {
   "cell_type": "code",
   "execution_count": 5,
   "metadata": {
    "id": "oCH4ZzwUujaD"
   },
   "outputs": [],
   "source": [
    "from torch import nn, optim\n",
    "import torch.nn.functional as F\n",
    "from torch.utils.data import DataLoader, Dataset\n",
    "from torchvision import datasets, transforms\n",
    "from torchvision.datasets import FashionMNIST"
   ]
  },
  {
   "cell_type": "code",
   "execution_count": 6,
   "metadata": {
    "colab": {
     "base_uri": "https://localhost:8080/"
    },
    "id": "0p7TllP1K4M8",
    "outputId": "0f056b2f-352b-45eb-af94-e3161d01b8a3"
   },
   "outputs": [
    {
     "name": "stdout",
     "output_type": "stream",
     "text": [
      "cuda:0\n"
     ]
    }
   ],
   "source": [
    "device = torch.device(\"cuda:0\" if torch.cuda.is_available() else \"cpu\")\n",
    "print(device)"
   ]
  },
  {
   "cell_type": "markdown",
   "metadata": {
    "id": "AOwaPvF0YY-e"
   },
   "source": [
    "## Overview of Data Augmentation"
   ]
  },
  {
   "cell_type": "markdown",
   "metadata": {
    "id": "kY07komRcSul"
   },
   "source": [
    "Modern machine learning models, such as deep neural networks, may have billions of parameters and, consequently, require massive labeled training datasets, which are often not available. In order to avoid the **problem of data scarcity** in such models, data augmentation has become the standard technique used in nearly every state-of-the-art model in applications such as **image** and **text classification**.\n",
    "\n",
    "> **Data augmentation refers to the technique of artificially expanding labelled training datasets by generating new data through transformation functions.**\n",
    "\n",
    "\n",
    "\n",
    "\n"
   ]
  },
  {
   "cell_type": "markdown",
   "metadata": {
    "id": "WK5KY35ZjyXn"
   },
   "source": [
    "Data augmentation schemes often rely on the composition of a set of simple transformation functions (TFs) such as rotation and flip. \n",
    "\n",
    "<img src=\"https://github.com/Mariana-Andrade-Alves/muAugment/blob/main/img/transforms.png?raw=1\" width='800'>\n",
    "\n",
    "\"Label-invariant transformations.\" [torchvision.transforms docs](https://pytorch.org/vision/stable/transforms.html#transforms-on-pil-image-only)\n",
    "\n",
    "As was briefly discussed in the [computer vision class](https://github.com/SupaeroDataScience/deep-learning/blob/main/vision/1_hands_on.ipynb), when chosen carefully, data augmentation schemes tuned by human experts can improve model performance. However, such heuristic strategies in practice can cause large variances in end model performance, and may not produce parameterizations and compositions needed for state-of-the-art models. In addition, they are extremely laborious."
   ]
  },
  {
   "cell_type": "markdown",
   "metadata": {
    "id": "zwYgbxsDnA0v"
   },
   "source": [
    "### Automated Data Augmentation Schemes"
   ]
  },
  {
   "cell_type": "markdown",
   "metadata": {
    "id": "GJSZDMVZnWa4"
   },
   "source": [
    "Instead of performing manual search, automated data augmentation approaches hold promise to search for more powerful parameterizations and compositions of transformations. \n",
    "\n",
    "The biggest difficulty with automating data augmentation is how to search over the space of transformations. This can be prohibitively expensive due to the large number of transformation functions in the search space. \n",
    "\n",
    "> **How can we design algorithms that explore the space of transformation functions efficiently and effectively, and find augmentation strategies that can outperform human-designed heuristics?**\n",
    "\n",
    "The folklore wisdom behind data augmentation is that adding more labeled data improves generalization, i.e. the performance of the trained model on unseen test data. However, even for simpler models, **it is not well-understood how training on augmented data affects the learning process, the parameters, and the decision surface of the resulting model**."
   ]
  },
  {
   "cell_type": "markdown",
   "metadata": {
    "id": "xA8SxLCxuq33"
   },
   "source": [
    "<details class=\"alert alert-block alert-info\">\n",
    "    <summary markdown=\"span\"><b>Extra information on the Adversarial AutoAugment Scheme previsouly discussed in class (click to expand)</b></summary>\n",
    "\n",
    "One of the current state-of-the-art algorithms in terms of performance is [Adversarial AutoAugment](https://openreview.net/pdf?id=ByxdUySKvS), which makes use of [GANs](https://proceedings.neurips.cc/paper/2014/file/5ca3e9b122f61f8f06494c97b1afccf3-Paper.pdf), already presented in a previous [class](https://github.com/SupaeroDataScience/deep-learning/tree/main/GAN), to generate new data, rather than using the traditional heuristic transformations presented above. \n",
    "\n",
    "<img src=\"https://github.com/Mariana-Andrade-Alves/muAugment/blob/main/img/AdvAA.png?raw=1\" width='800'>\n",
    "\n",
    "Li et al. \"Adversarial AutoAugment training framework (Zhang et al. 2019) is formulated as an adversarial min-max game.\" [Automating the Art of Data Augmentation.](https://hazyresearch.stanford.edu/blog/2020-02-26-data-augmentation-part2) 2020.\n",
    "\n",
    "Although proven effective, this technique is still computationally expensive. Additionally, despite its rapid progress, this technique does not allow for a theoretical understanding of the benefits of a given transformation.\n",
    "</details>\n",
    "\n"
   ]
  },
  {
   "cell_type": "markdown",
   "metadata": {
    "id": "lUGcEnRMPmKB"
   },
   "source": [
    "## How should we think of the effects of applying a transformation?\n",
    "\n",
    "### Intuition for Linear Transformations"
   ]
  },
  {
   "cell_type": "markdown",
   "metadata": {
    "id": "5SJkjOmVUA-c"
   },
   "source": [
    "Suppose we are given $n$ training data points $x_1,...,x_n \\in \\mathbb{R}^p$ as $X \\in \\mathbb{R}^{n\\times p}$ with labels $Y\\in \\mathbb{R}^n$.\n",
    "\n",
    "> Suppose that the labels $Y$ obey the true linear model under ground parameters $\\beta \\in \\mathbb{R}^p$, $$Y = X \\beta + \\epsilon,$$ where $\\epsilon \\in \\mathbb{R}^n$  denotes i.d.d. random noise with mean zero and variance $\\sigma²$.\n",
    "\n",
    "Importantly, we assume that $p>n$, hence the span of the training data does not contain the entire space of $\\mathbb{R}^p$.\n",
    "\n",
    "Let's suppose we have an estimator $\\hat{\\beta}$ for the linear model $\\beta \\in \\mathbb{R}^p$. The error of that given estimator is \n",
    "\n",
    "> $$e(\\hat{\\beta}) = \\underbrace{\\lVert \\underset{\n",
    "  \\epsilon}{\\mathbb{E}}[\\hat{\\beta}]-\\beta\\rVert^2}_{bias} + \\underbrace{\\lVert\\hat{\\beta} - \\underset{\\epsilon}{\\mathbb{E}}[\\beta] \\rVert^2}_{variance}$$\n",
    "\n",
    "where the bias part, intuitively, measures the intrinsic error of the model after taking into account the randomness which is present in $\\hat{\\beta}$.\n",
    "\n",
    "In the next section, we will try to demonstrate how label-invariant transformations can **reduce the estimation error**.\n"
   ]
  },
  {
   "cell_type": "markdown",
   "metadata": {
    "id": "q-DOkruxcrq1"
   },
   "source": [
    "### Label-Invariant Transformations"
   ]
  },
  {
   "cell_type": "markdown",
   "metadata": {
    "id": "ovRB5fU-dljL"
   },
   "source": [
    "For a matrix $F \\in \\mathbb{R}^{p\\times p}$, we say that $F$ is a label-invariant transformation over $\\chi \\subseteq \\mathbb{R}^p $ for $\\beta \\in \\mathbb{R}^p$ if $$x^\\top\\beta = (Fx)^\\top\\beta, \\quad \\text{ for any } x \\in \\chi.$$\n",
    "\n",
    "> In simpler words, a label-invariant transformation will not alter the label $y$ of a given data point $x$."
   ]
  },
  {
   "cell_type": "markdown",
   "metadata": {
    "id": "MWhL_e1_6qln"
   },
   "source": [
    "**But what is the effect of such a transformation?**\n",
    "\n",
    "Given a training data point $(x,y)$, let $(x^{aug},y^{aug})$ denote the augmented data where $y^{aug} = y$ and $x^{aug} = Fx$. \n",
    "\n",
    "**Note**: In order to be able to present the next result, let's consider adding the augmented data point $(z,y^{aug})$, where $z = P^\\bot_X Fx$, meaning $z$ is not $x^{aug}$, but the projection of $x^{aug}$ onto $P^\\bot_X = Id_p -P_X$, which denotes the projection operator which is ortogonal to the projection matrix onto the row of $X$ ($P_X$). In such a case, $y^{aug} = y - Diag[(X^\\top)^†Fx]Y$.\n",
    "> An intuiton to understand why we chose to use the projection $P^\\bot_X a^{aug}$ instead of the augmented data is to think about the idea of \"adding new information\". Remember: we assume that $p>n$, hence the subspace over which we can make an accurate estimation does not contain the entire space of $\\mathbb{R}^p$. When we add a data point belonging to a space ortogonal to the one we know, we expand the subspace over which we can make an accurate estimation, by adding a direction corresponding to $P^\\bot_X a^{aug}$.\n",
    "\n",
    "Suppose the estimator $\\hat{\\beta}$ used to infer labels is a ridge estimator with a penalty parameter $\\lambda$, given by\n",
    "\n",
    "$$\\hat{\\beta}(X,Y) = (X^\\top X + n \\lambda Id)^{-1}X^\\top Y, $$\n",
    "\n",
    "where, just to recap, $X$ denotes the training data and $Y$ the training labels.\n",
    "\n",
    "Considering $e(\\hat{\\beta})$ and $e(\\hat{\\beta}^F)$ has the errors of the estimator before and after adding the augmented data point $(z,y^{aug})$ to $(X,Y)$, it is possible to demonstrate that,\n",
    "\n",
    "$$ 0 \\leq e(\\hat{\\beta}) - e(\\hat{\\beta}^F) - (2+o(1))\\dfrac{\\langle z,\\beta \\rangle²}{\\lambda n} \\leq \\dfrac{poly(\\gamma/\\lambda)}{n²}, $$ where $poly(\\gamma/\\lambda)$ denotes a polynomial of $\\gamma/\\lambda$.\n",
    "\n",
    "This powerful result, which we will not explain in class but can be found in the [muAugment paper](https://hazyresearch.stanford.edu/blog/2020-02-26-data-augmentation-part2), shows that\n",
    "\n",
    "* **the reduction of the estimation error**, $e(\\hat{\\beta}) - e(\\hat{\\beta}^F)$, **scales with  the correlation between the new signal and the true model**, $\\langle z,\\beta \\rangle²$. \n",
    "\n",
    "In other words, by adding $P^\\bot_X Fx$, we reduce the **estimation error** of the ridge estimator at a rate proportional to $\\langle z,\\beta \\rangle²$.\n",
    "\n",
    "Finally, we know that the larger the correlation $\\langle z,\\beta \\rangle²$, the higher the loss of $(x^{aug},y^{aug})$ would be under $\\hat{\\beta}$. With this information, we can extrapolate the following:\n",
    "* **the reduction of the estimation error**, $e(\\hat{\\beta}) - e(\\hat{\\beta}^F)$, **scales with  the loss of $(x^{aug},y^{aug})$ under $\\hat{\\beta}$**, given by $l_{\\hat{\\beta}}(x^{aug},y^{aug})$."
   ]
  },
  {
   "cell_type": "markdown",
   "metadata": {
    "id": "WQ_tgiFYwJ60"
   },
   "source": [
    "> **In an intuitive sense, an augmented data point with a small loss means the model has already learned how to predict that type of data well, so if trained on it further, the model will only pick up incidental, possibly spurious patterns — overfitting. Conversely,  an augmented data point with a large loss means the model has not learned the general mapping between the type of data and its target yet, so we need to train more on those kinds of data points.**\n"
   ]
  },
  {
   "cell_type": "markdown",
   "metadata": {
    "id": "j8ZDR5VGEKbK"
   },
   "source": [
    "Additional results regarding **label-mixing transformations** were obtained in the [muAugment paper](https://hazyresearch.stanford.edu/blog/2020-02-26-data-augmentation-part2). These results will not be discussed in the class."
   ]
  },
  {
   "cell_type": "markdown",
   "metadata": {
    "id": "yr4AgdhNXR70"
   },
   "source": [
    "## Uncertainty-based Sampling Scheme"
   ]
  },
  {
   "cell_type": "markdown",
   "metadata": {
    "id": "Fafxtw71aAeQ"
   },
   "source": [
    "In order to take advantage of the last result presented, the **muAugment** algorithm was developped. The algorithm is as follows:\n",
    "\n",
    "* In a first step, for each data point, **C** compositions of **L** linear transformations are randomly sampled and fed to the learning model (in this example a neural network).  \n",
    "\n",
    "* In a second step, the **S** transformed samples with the highest losses are picked for training the model and a backpropagation is performed using those samples.\n",
    "\n",
    "> **The intuition behind the sampling scheme is that these transformed samples that have the largest losses should also provide the most information.**\n",
    "\n",
    "**The model learns more generalizable patterns, because the algorithm assures extra fitting on the \"hard\" augmentations while skipping the easy ones.**\n",
    "\n",
    "<img src=\"https://github.com/Mariana-Andrade-Alves/muAugment/blob/main/img/dauphin.png?raw=1\" width='900'>\n",
    "\n",
    "Senwu. \"Uncertainty-based random Sampling Scheme for Data Augmentation. Each transformation function is randomly sampled from a pre-defined set of operations.\" [Dauphin](https://github.com/senwu/dauphin) 2020."
   ]
  },
  {
   "cell_type": "markdown",
   "metadata": {
    "id": "E7HAf-0ye-A8"
   },
   "source": [
    "<details class=\"alert alert-block alert-info\">\n",
    "    <summary markdown=\"span\"><b>Comparison to Adversarial Autoaugment (click to expand)</b></summary>\n",
    "\n",
    "The idea behing this sampling scheme is conceptually similar to [Adversarial Autoaugment](https://openreview.net/pdf?id=ByxdUySKvS). However, while in the case of Adversarial Autoaugment, an additional adversarial network is used to generate augmented samples with large losses, in the current case, the model uses the training network itself to generate augmented samples.\n",
    "</details>\n",
    "\n",
    "\n"
   ]
  },
  {
   "cell_type": "markdown",
   "metadata": {
    "id": "EtJXedDFk8hg"
   },
   "source": [
    "Our goal today is to implement the **muAugment** algorithm and evaluate its performance."
   ]
  },
  {
   "cell_type": "markdown",
   "metadata": {
    "id": "Izjqqf3wiSd9"
   },
   "source": [
    "### The Dataset: FashionMNIST"
   ]
  },
  {
   "cell_type": "markdown",
   "metadata": {
    "id": "LafLPKgVkUAc"
   },
   "source": [
    "The dataset we will use for this application is the FashionMNIST dataset.  We'll download this dataset and make batching data loaders."
   ]
  },
  {
   "cell_type": "code",
   "execution_count": 7,
   "metadata": {
    "id": "qjizIWexLAE8"
   },
   "outputs": [],
   "source": [
    "batch_size = 4\n",
    "n_images = 10 if (batch_size>10) else batch_size\n",
    "\n",
    "# data must be normalized between -1 and 1\n",
    "transform = transforms.Compose([transforms.ToTensor(),\n",
    "                                transforms.Normalize((0.5,), (0.5,))])\n",
    "\n",
    "full_trainset = FashionMNIST(root='../data', train=True, download=True, transform=transform)\n",
    "trainset, full_validset = torch.utils.data.random_split(full_trainset, (10000, 50000)) # 10000 images for the training set\n",
    "validset, _ = torch.utils.data.random_split(full_validset, (1000, 49000)) # 1000 images for the validation set\n",
    "\n",
    "trainloader = DataLoader(trainset, batch_size=64, shuffle=True, num_workers=2)\n",
    "validloader = DataLoader(validset, batch_size=64, shuffle=True, num_workers=2)\n",
    "\n",
    "testset = FashionMNIST(root='../data', train=False, download=True, transform=transform)\n",
    "testloader = DataLoader(testset, batch_size=64, shuffle=True)"
   ]
  },
  {
   "cell_type": "markdown",
   "metadata": {
    "id": "VrAdMSfIYIx2"
   },
   "source": [
    "We can verify the normalization of our data."
   ]
  },
  {
   "cell_type": "code",
   "execution_count": 8,
   "metadata": {
    "colab": {
     "base_uri": "https://localhost:8080/"
    },
    "id": "XjVuTMlYYHaX",
    "outputId": "6e15f84b-ac07-489c-ed1d-2144517a89c3"
   },
   "outputs": [
    {
     "data": {
      "text/plain": [
       "(tensor(-1.), tensor(1.))"
      ]
     },
     "execution_count": 8,
     "metadata": {},
     "output_type": "execute_result"
    }
   ],
   "source": [
    "images,labels = next(iter(trainloader))\n",
    "images.min(),images.max()"
   ]
  },
  {
   "cell_type": "markdown",
   "metadata": {
    "id": "5y8yVZU3o3S9"
   },
   "source": [
    "Let's look at some example images from the FashionMNIST set."
   ]
  },
  {
   "cell_type": "code",
   "execution_count": 9,
   "metadata": {
    "colab": {
     "base_uri": "https://localhost:8080/",
     "height": 264
    },
    "id": "ErqMcHa-LYTT",
    "outputId": "84af71ab-2f02-41d1-ad20-f1001e3ff5d7"
   },
   "outputs": [
    {
     "data": {
      "image/png": "[encoded data removed]",
      "text/plain": [
       "<Figure size 288x288 with 4 Axes>"
      ]
     },
     "metadata": {
      "needs_background": "light"
     },
     "output_type": "display_data"
    }
   ],
   "source": [
    "# get the first batch of images and labels\n",
    "labels_text = [\"T-shirt/top\", \"Trouser\", \"Pullover\", \"Dress\", \"Coat\", \"Sandal\", \"Shirt\", \"Sneaker\", \"Bag\", \"Ankle boot\"]\n",
    "\n",
    "plt.figure(figsize=(n_images,4))\n",
    "for i in range(n_images):\n",
    "    l = labels[i].numpy()\n",
    "    plt.subplot(2, n_images/2, i+1)\n",
    "    plt.title('%d: %s' % (l, labels_text[l]))\n",
    "    plt.imshow(images[i].numpy()[0], cmap='Greys')\n",
    "    plt.axis('off')"
   ]
  },
  {
   "cell_type": "markdown",
   "metadata": {
    "id": "hYDy1OY_jQLr"
   },
   "source": [
    "### The Model"
   ]
  },
  {
   "cell_type": "markdown",
   "metadata": {
    "id": "e1xooW4WFJMG"
   },
   "source": [
    "As mentioned above, the advantage of the **muAugment** algorithm is that it uses the learning model to automate data augmentation. The goal is to generate data which will improve our training model.\n",
    "\n",
    "In today's example, we wish to learn to classify images into 10 possible labels:"
   ]
  },
  {
   "cell_type": "code",
   "execution_count": 10,
   "metadata": {
    "colab": {
     "base_uri": "https://localhost:8080/"
    },
    "id": "dhC2LmL5J8gW",
    "outputId": "c602bf1e-457a-4c2f-a4a3-0e6d168b295a"
   },
   "outputs": [
    {
     "data": {
      "text/plain": [
       "['T-shirt/top',\n",
       " 'Trouser',\n",
       " 'Pullover',\n",
       " 'Dress',\n",
       " 'Coat',\n",
       " 'Sandal',\n",
       " 'Shirt',\n",
       " 'Sneaker',\n",
       " 'Bag',\n",
       " 'Ankle boot']"
      ]
     },
     "execution_count": 10,
     "metadata": {},
     "output_type": "execute_result"
    }
   ],
   "source": [
    "labels_text"
   ]
  },
  {
   "cell_type": "markdown",
   "metadata": {
    "id": "kzLuIY5XM6hr"
   },
   "source": [
    "In order to do this, the training model we will use is a convolutional neural network, presented during a [previous class](https://github.com/SupaeroDataScience/deep-learning/blob/main/deep/PyTorch%20Ignite.ipynb)."
   ]
  },
  {
   "cell_type": "code",
   "execution_count": 11,
   "metadata": {
    "id": "oEFz4TAlOSQX"
   },
   "outputs": [],
   "source": [
    "class CNN(nn.Module):\n",
    "    \n",
    "    def __init__(self):\n",
    "        super(CNN, self).__init__()\n",
    "        \n",
    "        self.convlayer1 = nn.Sequential(\n",
    "            nn.Conv2d(1, 32, 3,padding=1),\n",
    "            nn.BatchNorm2d(32),\n",
    "            nn.ReLU(),\n",
    "            nn.MaxPool2d(kernel_size=2, stride=2)\n",
    "        )\n",
    "        \n",
    "        self.convlayer2 = nn.Sequential(\n",
    "            nn.Conv2d(32,64,3),\n",
    "            nn.BatchNorm2d(64),\n",
    "            nn.ReLU(),\n",
    "            nn.MaxPool2d(2)\n",
    "        )\n",
    "        \n",
    "        self.fc1 = nn.Linear(64*6*6,600)\n",
    "        self.drop = nn.Dropout2d(0.25)\n",
    "        self.fc2 = nn.Linear(600, 120)\n",
    "        self.fc3 = nn.Linear(120, 10)\n",
    "        \n",
    "    def forward(self, x):\n",
    "        x = self.convlayer1(x)\n",
    "        x = self.convlayer2(x)\n",
    "        x = x.view(-1,64*6*6)\n",
    "        x = self.fc1(x)\n",
    "        x = self.drop(x)\n",
    "        x = self.fc2(x)\n",
    "        x = self.fc3(x)\n",
    "        \n",
    "        return F.log_softmax(x,dim=1)"
   ]
  },
  {
   "cell_type": "markdown",
   "metadata": {
    "id": "3fOyNJoPjfA4"
   },
   "source": [
    "### Training"
   ]
  },
  {
   "cell_type": "markdown",
   "metadata": {
    "id": "XS-JrFXhQ9Mv"
   },
   "source": [
    "In order to train the model, we must first create it and define the loss function and optimizer."
   ]
  },
  {
   "cell_type": "code",
   "execution_count": 12,
   "metadata": {
    "colab": {
     "base_uri": "https://localhost:8080/"
    },
    "id": "WDc6Bz11WNlr",
    "outputId": "e65e54d3-d003-436b-bb30-ba02561bbcc6"
   },
   "outputs": [
    {
     "data": {
      "text/plain": [
       "CNN(\n",
       "  (convlayer1): Sequential(\n",
       "    (0): Conv2d(1, 32, kernel_size=(3, 3), stride=(1, 1), padding=(1, 1))\n",
       "    (1): BatchNorm2d(32, eps=1e-05, momentum=0.1, affine=True, track_running_stats=True)\n",
       "    (2): ReLU()\n",
       "    (3): MaxPool2d(kernel_size=2, stride=2, padding=0, dilation=1, ceil_mode=False)\n",
       "  )\n",
       "  (convlayer2): Sequential(\n",
       "    (0): Conv2d(32, 64, kernel_size=(3, 3), stride=(1, 1))\n",
       "    (1): BatchNorm2d(64, eps=1e-05, momentum=0.1, affine=True, track_running_stats=True)\n",
       "    (2): ReLU()\n",
       "    (3): MaxPool2d(kernel_size=2, stride=2, padding=0, dilation=1, ceil_mode=False)\n",
       "  )\n",
       "  (fc1): Linear(in_features=2304, out_features=600, bias=True)\n",
       "  (drop): Dropout2d(p=0.25, inplace=False)\n",
       "  (fc2): Linear(in_features=600, out_features=120, bias=True)\n",
       "  (fc3): Linear(in_features=120, out_features=10, bias=True)\n",
       ")"
      ]
     },
     "execution_count": 12,
     "metadata": {},
     "output_type": "execute_result"
    }
   ],
   "source": [
    "#creating model for original data\n",
    "model_original = CNN()\n",
    "# creating model for augmented data\n",
    "model = CNN()\n",
    "# moving models to gpu if available\n",
    "device = torch.device(\"cuda:0\" if torch.cuda.is_available() else \"cpu\")\n",
    "model.to(device)\n",
    "model_original.to(device)"
   ]
  },
  {
   "cell_type": "markdown",
   "metadata": {
    "id": "DRt7nllz7aMG"
   },
   "source": [
    "By using the parameter `weight_decay` in our optimizer we are applying a similar penalty parameter to the one in ridge regression."
   ]
  },
  {
   "cell_type": "code",
   "execution_count": 13,
   "metadata": {
    "id": "ZfBKudBi5UzI"
   },
   "outputs": [],
   "source": [
    "lr = 0.01 # learning rate\n",
    "# defining optimizer and loss for original model\n",
    "optimizer_original = torch.optim.SGD(model_original.parameters(), lr=lr, weight_decay=0.0001, momentum=0.9)\n",
    "criterion_original = nn.CrossEntropyLoss()\n",
    "# defining optimizer and loss for augmented model\n",
    "optimizer = torch.optim.SGD(model.parameters(), lr=lr, weight_decay=0.0001, momentum=0.9)\n",
    "criterion = nn.CrossEntropyLoss()"
   ]
  },
  {
   "cell_type": "markdown",
   "metadata": {
    "id": "RlQKFPTHZB-V"
   },
   "source": [
    "In a typical training phase, each batch of images would be treated in the following loop:\n",
    "```python\n",
    "for epoch in range(max_epochs):\n",
    "  for batch in trainloader:\n",
    "    # zero the parameter gradients\n",
    "    optimizer.zero_grad()\n",
    "    # get inputs and labels from batch\n",
    "    inputs, labels = batch\n",
    "    # forward + backward + optimize\n",
    "    outputs = model(inputs)\n",
    "    loss = criterion(outputs, labels)\n",
    "    loss.backward()\n",
    "    optimizer.step()\n",
    "```\n",
    "In order to perform data augmentation with pre-defined transforms, it would suffice to declare the transforms while generating the data loader and the loop would remain unchanged."
   ]
  },
  {
   "cell_type": "markdown",
   "metadata": {
    "id": "neRuRBXtb6-2"
   },
   "source": [
    "However, because we don't wish to train the model without evaluating the performance of each transform, this loop is going to change."
   ]
  },
  {
   "cell_type": "markdown",
   "metadata": {
    "id": "BLQc9DobSl5T"
   },
   "source": [
    "### The Random Sampling Scheme (hands-on exercises)"
   ]
  },
  {
   "cell_type": "markdown",
   "metadata": {
    "id": "UKryrOX9coYs"
   },
   "source": [
    "As mentioned above, the goal is to implement the following algorithm:\n",
    "\n",
    "<img src=\"https://github.com/Mariana-Andrade-Alves/muAugment/blob/main/img/algorithm.png?raw=1\" width=\"1000\">\n",
    "\n",
    "Wu et al. \"Uncertainty-based random Sampling Algorithm.\" [On the Generalization Effects of Linear Transformations in Data Augmentation](https://arxiv.org/pdf/2005.00695.pdf) 2020."
   ]
  },
  {
   "cell_type": "markdown",
   "metadata": {
    "id": "B0wRR6_ghDV4"
   },
   "source": [
    "Today, to simplify our work, we will not use default transformations. We will also only consider label-invariant transformations."
   ]
  },
  {
   "cell_type": "markdown",
   "metadata": {
    "id": "ZvODqs3rffTW"
   },
   "source": [
    "In our implementation, lets consider the following required arguments:\n",
    "*  **L** (int): Number of **linear** transformations uniformly sampled for each composition\n",
    "* **C** (int): Number of **compositions** placed on each image \n",
    "* **S** (int): Number of **selected** compositions for each image"
   ]
  },
  {
   "cell_type": "markdown",
   "metadata": {
    "id": "ORNWbIFBjroB"
   },
   "source": [
    "> **In a first exercise, let's attempt to code the lines 4 and 5 of the algorithm. Complete the function `compute_composed_data` which takes as input a `transform_list` similar to the one presented bellow, the arguments `L` and `C` described above and the images `xb` and labels `yb` of a batch and returns 2 tensors `C_images` and `C_targets` which contain the images xb$^{\\mathbf{aug}}$ and labels yb$^{\\mathbf{aug}}$ of the augmented data.**\n",
    "```python\n",
    "transform_list = [transforms.RandomAutocontrast(p=p),\n",
    "                  transforms.ColorJitter(brightness=MAGN/30),\n",
    "                  transforms.ColorJitter(contrast=MAGN/30),\n",
    "                  transforms.RandomInvert(p=p),                 \n",
    "                  transforms.RandomRotation(degrees=MAGN*3),\n",
    "                  transforms.RandomAdjustSharpness(0.18*MAGN+0.1, p=p),\n",
    "                  transforms.RandomAffine(degrees=0, shear=MAGN/30),\n",
    "                  transforms.RandomSolarize(MAGN*8, p=p),\n",
    "                  transforms.RandomAffine(degrees=(0,0), \n",
    "                  translate=(MAGN/30,0),shear=(0,0)),\n",
    "                  transforms.RandomAffine(degrees=(0,0), \n",
    "                  translate=(0,MAGN/30),shear=(0,0)),\n",
    "                  ]\n",
    "``` "
   ]
  },
  {
   "cell_type": "code",
   "execution_count": 14,
   "metadata": {
    "id": "Er1zzBPbjQZb"
   },
   "outputs": [],
   "source": [
    "# the load command only works on jupyter notebook\n",
    "# %load solutions/compute_composed_data.py\n",
    "def compute_composed_data(transform_list,L, C, xb,yb):\n",
    "    BS,N_CHANNELS,HEIGHT,WIDTH = xb.shape\n",
    "\n",
    "    C_images = torch.zeros(C, BS, N_CHANNELS, HEIGHT, WIDTH, device=device)\n",
    "    C_targets = torch.zeros(C, BS, device=device, dtype=torch.long)\n",
    "\n",
    "    for c in range(C):\n",
    "        # create a list of L linear transforms randomly sampled from the transform_list\n",
    "        \n",
    "        # create a composition of transforms from the list sampled above. Use nn.Sequential instead of transforms.Compose in order to script the transformations\n",
    "        \n",
    "        # apply the composition to the original images xb\n",
    "        \n",
    "        # update tensors C_images and C_targets\n",
    "            \n",
    "  \n",
    "    return C_images, C_targets"
   ]
  },
  {
   "cell_type": "code",
   "execution_count": 15,
   "metadata": {
    "id": "tHrp6JxEfe58"
   },
   "outputs": [],
   "source": [
    "# the cat command works on google colab\n",
    "# %cat muAugment/solutions/compute_composed_data.py"
   ]
  },
  {
   "cell_type": "markdown",
   "metadata": {
    "id": "Jg2CKV2KoS0K"
   },
   "source": [
    "Now that we have implemented the data augmentation part, we can attempt to code the content of the main loop of the algorithm. \n",
    "\n",
    "**Remember**: the idea is to feed the transformed batches to the model without updating it and compare the losses obtained for each batch. Since you do not want to call `python loss.backward()`, you can disable gradient calculation in your function by using `python @torch.no_grad()`."
   ]
  },
  {
   "cell_type": "markdown",
   "metadata": {
    "id": "KRJcbHYaqq1D"
   },
   "source": [
    "> **In a second exercise, complete the function `compute_selected_data` that takes as inputs the learning `model`, the `loss` function,  the tensors `C_images` and `C_targets` and the argument `S` and returns the seleted transformed images (`S_images`) and labels (`S_labels`).**"
   ]
  },
  {
   "cell_type": "code",
   "execution_count": 16,
   "metadata": {
    "id": "3Ib6sJ9KwLfj"
   },
   "outputs": [],
   "source": [
    "# the load command only works on jupyter notebook\n",
    "# %load solutions/compute_selected_data.py\n",
    "\n",
    "#disable gradient calculation\n",
    "\n",
    "def compute_selected_data(model, loss, C_images, C_targets, S):\n",
    "    C, BS, N_CHANNELS, HEIGHT, WIDTH = C_images.shape\n",
    "\n",
    "    # create a list of predictions 'pred' by applying the model to the augmented batches contained in C_images\n",
    "    \n",
    "\n",
    "    # create a list of losses by applying the loss function to the predictions and labels C_targets\n",
    "    # convert the list to a loss tensor 'loss_tensor' through the function torch.stack\n",
    "    \n",
    "\n",
    "    # select the S indices 'S_idxs' of the loss_tensor with the highest value. You may use the function torch.topk\n",
    "    \n",
    "\n",
    "    # select the S images 'S_images' from C_images with the highest losses\n",
    "    \n",
    "    # convert the tensor 'S_images' so that it passes from shape [S, BS, N_CHANNELS, HEIGHT, WIDTH] to shape\n",
    "    # [S*BS, N_CHANNELS, HEIGHT, WIDTH]. You may use the function torch.view\n",
    "    \n",
    "\n",
    "    # select the S labels 'S_targets' from C_targets corresponding to the highest losses\n",
    "    \n",
    "    # convert the tensor 'S_targets' so that it passes from shape [S, BS] to shape\n",
    "    # [S*BS]. You may use the function torch.view\n",
    "    \n",
    "      \n",
    "    return S_images, S_targets"
   ]
  },
  {
   "cell_type": "code",
   "execution_count": 17,
   "metadata": {
    "id": "jgCTX8bhfe59"
   },
   "outputs": [],
   "source": [
    "# the cat command works on google colab\n",
    "# %cat muAugment/solutions/compute_selected_data.py"
   ]
  },
  {
   "cell_type": "markdown",
   "metadata": {
    "id": "wE0N7RE7zXgF"
   },
   "source": [
    "We have created two functions which give us the augmented data we wish to use in the training phase of our model."
   ]
  },
  {
   "cell_type": "markdown",
   "metadata": {
    "id": "G--sNOvu2oml"
   },
   "source": [
    "### Back to Training (hands-on exercise)\n",
    "\n"
   ]
  },
  {
   "cell_type": "markdown",
   "metadata": {
    "id": "AJ1_4srC2uvl"
   },
   "source": [
    "Let's consider the following arguments for the algorithm:"
   ]
  },
  {
   "cell_type": "code",
   "execution_count": 18,
   "metadata": {
    "id": "5DGLYc7S2kzM"
   },
   "outputs": [],
   "source": [
    "# algorithm arguments\n",
    "L = 3 # number of linear transformations sampled for each composition\n",
    "C = 4 # number of compositions placed on each image.\n",
    "S = 2 # number of selected compositions for each image"
   ]
  },
  {
   "cell_type": "markdown",
   "metadata": {
    "id": "bhP1FEaM3nE9"
   },
   "source": [
    "Let's consider the following list of linear transformations, similar to the ones used in the original paper:"
   ]
  },
  {
   "cell_type": "code",
   "execution_count": 19,
   "metadata": {
    "id": "Hfb9w-Xf4axg"
   },
   "outputs": [],
   "source": [
    "MAGN = 4  # (int) Magnitude of augmentation applied. Ranges from [0, 10] with 10 being the max magnitude.\n",
    "# function of list of linear transformations\n",
    "def transform_list(MAGN,p):\n",
    "    return [transforms.RandomAutocontrast(p=p),\n",
    "            transforms.ColorJitter(brightness=MAGN/30),\n",
    "            transforms.ColorJitter(contrast=MAGN/30),\n",
    "            transforms.RandomInvert(p=p),\n",
    "            transforms.RandomRotation(degrees=MAGN*3),\n",
    "            transforms.RandomAdjustSharpness(0.18*MAGN+0.1, p=p),\n",
    "            transforms.RandomAffine(degrees=0, shear=MAGN/30),\n",
    "            transforms.RandomSolarize(MAGN, p=p),\n",
    "            transforms.RandomAffine(degrees=(0,0), translate=(MAGN/30,0),shear=(0,0)),\n",
    "            transforms.RandomAffine(degrees=(0,0), translate=(0,MAGN/30),shear=(0,0)),\n",
    "            ]"
   ]
  },
  {
   "cell_type": "markdown",
   "metadata": {
    "id": "s1SqzECn5ChX"
   },
   "source": [
    "The following three code boxes were adapted from the tutorial on pytorch done in [class](https://github.com/SupaeroDataScience/deep-learning/blob/main/deep/Deep%20Learning.ipynb). "
   ]
  },
  {
   "cell_type": "markdown",
   "metadata": {
    "id": "qbCoiXyL7yaf"
   },
   "source": [
    "In order to compare validation and training losses, we will calculate the validation losses and accuracy at each epoch."
   ]
  },
  {
   "cell_type": "code",
   "execution_count": 20,
   "metadata": {
    "id": "LGIry_lXdeym"
   },
   "outputs": [],
   "source": [
    "def validation(model,criterion):\n",
    "    correct_pred = 0\n",
    "    total_pred = 0\n",
    "    valid_loss = 0\n",
    "    with torch.no_grad():\n",
    "        for data in validloader:\n",
    "            images, labels = data\n",
    "            images = images.to(device)\n",
    "            labels = labels.to(device)\n",
    "            outputs = model(images)\n",
    "            loss = criterion(outputs, labels)\n",
    "            valid_loss += loss.item()\n",
    "\n",
    "            # calculate predictions\n",
    "            predictions=[]\n",
    "            for i in range(outputs.shape[0]):\n",
    "                ps = torch.exp(outputs[i])\n",
    "                predictions.append(torch.argmax(ps))\n",
    "            # collect the correct predictions\n",
    "            for label, prediction in zip(labels, predictions):\n",
    "                if label == prediction:\n",
    "                    correct_pred += 1\n",
    "                total_pred += 1\n",
    "        accuracy = 100 * (correct_pred / total_pred)\n",
    "\n",
    "    return valid_loss, accuracy"
   ]
  },
  {
   "cell_type": "code",
   "execution_count": 21,
   "metadata": {
    "id": "NrtUV4hAdkZQ"
   },
   "outputs": [],
   "source": [
    "def plot_train_val(train, valid, title, label1 = 'Training', label2 = 'Validation'):\n",
    "    fig, ax1 = plt.subplots()\n",
    "    color = 'tab:red'\n",
    "    ax1.set_ylabel(label1, color=color)\n",
    "    ax1.plot(train, color=color)\n",
    "    ax2 = ax1.twinx()\n",
    "    color = 'tab:blue'\n",
    "    ax2.set_ylabel(label2, color=color)\n",
    "    ax2.plot(valid, color=color)\n",
    "    fig.tight_layout()\n",
    "    plt.title(title)"
   ]
  },
  {
   "cell_type": "markdown",
   "metadata": {
    "id": "06o9T73V74jQ"
   },
   "source": [
    "In order to avoid overfitting, we will implement early stopping."
   ]
  },
  {
   "cell_type": "code",
   "execution_count": 22,
   "metadata": {
    "id": "ktDFa8zxddFV"
   },
   "outputs": [],
   "source": [
    "class EarlyStopping:\n",
    "    \n",
    "    def __init__(self, patience=5, delta=0):\n",
    "        self.patience = patience\n",
    "        self.counter = 0\n",
    "        self.best_score = None\n",
    "        self.delta = delta\n",
    "        self.early_stop = False\n",
    "\n",
    "    def step(self, val_loss):\n",
    "        score = -val_loss\n",
    "        if self.best_score is None:\n",
    "            self.best_score = score\n",
    "        elif score < self.best_score + self.delta:\n",
    "            self.counter += 1\n",
    "            print('EarlyStopping counter: %d / %d' % (self.counter, self.patience))\n",
    "            if self.counter >= self.patience:\n",
    "                self.early_stop = True\n",
    "        else:\n",
    "            self.best_score = score\n",
    "            self.counter = 0"
   ]
  },
  {
   "cell_type": "markdown",
   "metadata": {
    "id": "hbANeoTQ8NUH"
   },
   "source": [
    "It is time to implement the algorithm in the training loop!\n",
    "\n"
   ]
  },
  {
   "cell_type": "markdown",
   "metadata": {
    "id": "nNguV9Zw8_zM"
   },
   "source": [
    "> **In the final exercise, take the almost complete code of the training loop presented bellow (adapted from the [pytorch class](https://github.com/SupaeroDataScience/deep-learning/blob/main/deep/Deep%20Learning.ipynb)) and change it, so that the algorithm is implemented.**"
   ]
  },
  {
   "cell_type": "code",
   "execution_count": 23,
   "metadata": {
    "id": "oh9LPwHi5B4E"
   },
   "outputs": [],
   "source": [
    "# the load command only works on jupyter notebook\n",
    "# %load solutions/train.py\n",
    "def train(model,criterion,optimizer, earlystopping=True,max_epochs=30,patience=2, augment=False):\n",
    "    train_history = []\n",
    "    valid_history = []\n",
    "    accuracy_history = []\n",
    "    estop = EarlyStopping(patience=patience)\n",
    "    for epoch in range(max_epochs):\n",
    "        train_loss = 0.0\n",
    "        for i, data in enumerate(trainloader, 0):\n",
    "            if augment:\n",
    "                # generate transform list\n",
    "                p = np.random.random() # probability of each transformation occurring\n",
    "                transforms = transform_list(MAGN,p)\n",
    "                # get the inputs; data is a list of [inputs, labels]\n",
    "                xb,yb = data\n",
    "                xb = xb.to(device)\n",
    "                yb = yb.to(device)\n",
    "                # generate the tensors 'C_images' and 'C_targets'\n",
    "                \n",
    "                # generated the augmented data = [inputs,labels]\n",
    "                \n",
    "            else:\n",
    "                # get the inputs; data is a list of [inputs, labels]\n",
    "                inputs,labels = data\n",
    "                inputs = inputs.to(device)\n",
    "                labels = labels.to(device)\n",
    "            # zero the parameter gradients\n",
    "            optimizer.zero_grad()\n",
    "            # forward + backward + optimize\n",
    "            outputs = model(inputs)\n",
    "            loss = criterion(outputs, labels)\n",
    "            loss.backward()\n",
    "            optimizer.step()\n",
    "            train_loss += loss.item()\n",
    "        valid_loss, accuracy = validation(model,criterion)\n",
    "        train_history.append(train_loss)\n",
    "        valid_history.append(valid_loss)\n",
    "        accuracy_history.append(accuracy)\n",
    "        print('Epoch %02d: train loss %0.5f, validation loss %0.5f, accuracy %3.1f ' % (epoch, train_loss, valid_loss, accuracy))\n",
    "        estop.step(valid_loss)\n",
    "        if earlystopping and estop.early_stop:\n",
    "            break\n",
    "    return train_history, valid_history, accuracy_history"
   ]
  },
  {
   "cell_type": "code",
   "execution_count": 24,
   "metadata": {
    "id": "wnFnM6RRfe6C"
   },
   "outputs": [],
   "source": [
    "# the cat command works on google colab\n",
    "# %cat muAugment/solutions/train.py"
   ]
  },
  {
   "cell_type": "markdown",
   "metadata": {
    "id": "lRgOtFNr-deR"
   },
   "source": [
    "We did it! Let's train our models: one without and one with augmented data."
   ]
  },
  {
   "cell_type": "code",
   "execution_count": 25,
   "metadata": {
    "colab": {
     "base_uri": "https://localhost:8080/"
    },
    "id": "a0POCdYx-jiQ",
    "outputId": "f4aebb58-a79b-48dd-b995-bbc4a375d54b"
   },
   "outputs": [
    {
     "name": "stdout",
     "output_type": "stream",
     "text": [
      "\n",
      " Training for the original dataset...\n",
      "\n",
      "Epoch 00: train loss 107.40087, validation loss 9.54017, accuracy 78.7 \n",
      "Epoch 01: train loss 65.31258, validation loss 7.11776, accuracy 82.7 \n",
      "Epoch 02: train loss 53.65551, validation loss 7.14902, accuracy 82.9 \n",
      "EarlyStopping counter: 1 / 6\n",
      "Epoch 03: train loss 48.46113, validation loss 5.79279, accuracy 85.4 \n",
      "Epoch 04: train loss 42.72672, validation loss 6.20212, accuracy 85.8 \n",
      "EarlyStopping counter: 1 / 6\n",
      "Epoch 05: train loss 41.72654, validation loss 5.90067, accuracy 86.0 \n",
      "EarlyStopping counter: 2 / 6\n",
      "Epoch 06: train loss 36.24185, validation loss 6.38821, accuracy 86.3 \n",
      "EarlyStopping counter: 3 / 6\n",
      "Epoch 07: train loss 30.89906, validation loss 5.40398, accuracy 87.0 \n",
      "Epoch 08: train loss 31.40080, validation loss 6.17783, accuracy 86.4 \n",
      "EarlyStopping counter: 1 / 6\n",
      "Epoch 09: train loss 27.44940, validation loss 5.63667, accuracy 88.4 \n",
      "EarlyStopping counter: 2 / 6\n",
      "Epoch 10: train loss 23.74384, validation loss 5.67578, accuracy 88.2 \n",
      "EarlyStopping counter: 3 / 6\n",
      "Epoch 11: train loss 23.53422, validation loss 7.25856, accuracy 85.5 \n",
      "EarlyStopping counter: 4 / 6\n",
      "Epoch 12: train loss 22.91191, validation loss 6.22305, accuracy 87.4 \n",
      "EarlyStopping counter: 5 / 6\n",
      "Epoch 13: train loss 19.23445, validation loss 5.87766, accuracy 88.3 \n",
      "EarlyStopping counter: 6 / 6\n",
      "\n",
      " Training for the augmented dataset...\n",
      "\n",
      "Epoch 00: train loss 200.17301, validation loss 11.53903, accuracy 73.3 \n",
      "Epoch 01: train loss 138.08817, validation loss 9.07099, accuracy 77.6 \n",
      "Epoch 02: train loss 129.78504, validation loss 7.45362, accuracy 82.3 \n",
      "Epoch 03: train loss 121.72741, validation loss 9.19193, accuracy 78.6 \n",
      "EarlyStopping counter: 1 / 6\n",
      "Epoch 04: train loss 114.61139, validation loss 7.20788, accuracy 82.8 \n",
      "Epoch 05: train loss 112.52326, validation loss 9.27048, accuracy 77.5 \n",
      "EarlyStopping counter: 1 / 6\n",
      "Epoch 06: train loss 110.64931, validation loss 7.62662, accuracy 81.8 \n",
      "EarlyStopping counter: 2 / 6\n",
      "Epoch 07: train loss 100.62967, validation loss 6.44072, accuracy 84.2 \n",
      "Epoch 08: train loss 99.47019, validation loss 6.58639, accuracy 84.1 \n",
      "EarlyStopping counter: 1 / 6\n",
      "Epoch 09: train loss 97.43430, validation loss 8.97916, accuracy 79.4 \n",
      "EarlyStopping counter: 2 / 6\n",
      "Epoch 10: train loss 96.43212, validation loss 6.22396, accuracy 84.2 \n",
      "Epoch 11: train loss 92.57581, validation loss 6.54693, accuracy 84.5 \n",
      "EarlyStopping counter: 1 / 6\n",
      "Epoch 12: train loss 90.88633, validation loss 6.33956, accuracy 84.3 \n",
      "EarlyStopping counter: 2 / 6\n",
      "Epoch 13: train loss 89.47278, validation loss 6.64320, accuracy 83.5 \n",
      "EarlyStopping counter: 3 / 6\n",
      "Epoch 14: train loss 91.09531, validation loss 6.44105, accuracy 83.5 \n",
      "EarlyStopping counter: 4 / 6\n",
      "Epoch 15: train loss 89.41556, validation loss 6.03098, accuracy 86.1 \n",
      "Epoch 16: train loss 88.40112, validation loss 6.55470, accuracy 84.6 \n",
      "EarlyStopping counter: 1 / 6\n",
      "Epoch 17: train loss 88.57243, validation loss 6.22672, accuracy 85.8 \n",
      "EarlyStopping counter: 2 / 6\n",
      "Epoch 18: train loss 86.86290, validation loss 6.51018, accuracy 83.2 \n",
      "EarlyStopping counter: 3 / 6\n",
      "Epoch 19: train loss 82.87512, validation loss 5.78412, accuracy 85.5 \n",
      "Epoch 20: train loss 79.14971, validation loss 5.53806, accuracy 86.7 \n",
      "Epoch 21: train loss 83.67297, validation loss 5.34317, accuracy 86.9 \n",
      "Epoch 22: train loss 80.67956, validation loss 5.86662, accuracy 86.1 \n",
      "EarlyStopping counter: 1 / 6\n",
      "Epoch 23: train loss 77.71820, validation loss 5.52212, accuracy 86.6 \n",
      "EarlyStopping counter: 2 / 6\n",
      "Epoch 24: train loss 77.07045, validation loss 5.18545, accuracy 87.7 \n",
      "Epoch 25: train loss 80.60019, validation loss 5.10139, accuracy 87.9 \n",
      "Epoch 26: train loss 80.49870, validation loss 6.36130, accuracy 86.2 \n",
      "EarlyStopping counter: 1 / 6\n",
      "Epoch 27: train loss 77.92610, validation loss 5.44655, accuracy 86.0 \n",
      "EarlyStopping counter: 2 / 6\n",
      "Epoch 28: train loss 76.61362, validation loss 5.20318, accuracy 86.9 \n",
      "EarlyStopping counter: 3 / 6\n",
      "Epoch 29: train loss 74.06104, validation loss 5.32655, accuracy 86.1 \n",
      "EarlyStopping counter: 4 / 6\n",
      "Epoch 30: train loss 73.67970, validation loss 5.54085, accuracy 87.8 \n",
      "EarlyStopping counter: 5 / 6\n",
      "Epoch 31: train loss 76.51041, validation loss 5.12992, accuracy 88.1 \n",
      "EarlyStopping counter: 6 / 6\n"
     ]
    }
   ],
   "source": [
    "max_epochs = 50\n",
    "patience = 6 #early stopping parameter, we are choosing a high value to check a little longer the evolution of the validation model\n",
    "\n",
    "print(\"\\n Training for the original dataset...\\n\")\n",
    "train_history_original, valid_history_original, accuracy_history_original = train(model_original,criterion_original,optimizer_original,max_epochs=max_epochs,patience=patience)\n",
    "print(\"\\n Training for the augmented dataset...\\n\")\n",
    "train_history, valid_history, accuracy_history = train(model,criterion,optimizer,max_epochs=max_epochs,patience=patience,augment=True)"
   ]
  },
  {
   "cell_type": "markdown",
   "metadata": {
    "id": "tiI2fGLPLptJ"
   },
   "source": [
    "#### Plotting the Training and Validation Loss"
   ]
  },
  {
   "cell_type": "markdown",
   "metadata": {
    "id": "4Sh-2wvGL8FX"
   },
   "source": [
    "Now that we trained both models, we can compare how the loss of training and validation evolves in both cases."
   ]
  },
  {
   "cell_type": "code",
   "execution_count": 26,
   "metadata": {
    "colab": {
     "base_uri": "https://localhost:8080/",
     "height": 609
    },
    "id": "6dBSCcmKILYb",
    "outputId": "6f07953b-bebb-4b79-bacd-fb35a245ffa0"
   },
   "outputs": [
    {
     "data": {
      "image/png": "[encoded data removed]",
      "text/plain": [
       "<Figure size 432x288 with 2 Axes>"
      ]
     },
     "metadata": {
      "needs_background": "light"
     },
     "output_type": "display_data"
    },
    {
     "data": {
      "image/png": "[encoded data removed]",
      "text/plain": [
       "<Figure size 432x288 with 2 Axes>"
      ]
     },
     "metadata": {
      "needs_background": "light"
     },
     "output_type": "display_data"
    }
   ],
   "source": [
    "plot_train_val(train_history_original, valid_history_original,\"Original Data\")\n",
    "plot_train_val(train_history, valid_history,\"Augmented Data\")"
   ]
  },
  {
   "cell_type": "markdown",
   "metadata": {
    "id": "Bk_SBuPH9xj0"
   },
   "source": [
    "Most times you can see that the training loss tends to be higher at the beginning while using the augmented data and, even, ocasionally, augment from epoch to epoch i.e. training is less stable. This is consistent with the fact that the augmented data is more difficult to predict. However, because the model with augmented data does not excessively train the data points it already knows, the model also suffers less from overfitting."
   ]
  },
  {
   "cell_type": "markdown",
   "metadata": {
    "id": "AJ0tlGPNM7dX"
   },
   "source": [
    "We can also compare accuracy between models."
   ]
  },
  {
   "cell_type": "code",
   "execution_count": 27,
   "metadata": {
    "colab": {
     "base_uri": "https://localhost:8080/",
     "height": 313
    },
    "id": "Zqv8AaRbNCUX",
    "outputId": "d9fb494e-44ac-4c85-9b50-bafda0a16d81"
   },
   "outputs": [
    {
     "data": {
      "image/png": "[encoded data removed]",
      "text/plain": [
       "<Figure size 432x288 with 2 Axes>"
      ]
     },
     "metadata": {
      "needs_background": "light"
     },
     "output_type": "display_data"
    }
   ],
   "source": [
    "plot_train_val(accuracy_history, accuracy_history_original,\"Accuracy\",label1='Augmented',label2='Original')"
   ]
  },
  {
   "cell_type": "markdown",
   "metadata": {
    "id": "2TrVPbhaMWe9"
   },
   "source": [
    "#### Verifying models with Testing Dataset"
   ]
  },
  {
   "cell_type": "markdown",
   "metadata": {
    "id": "CFmjyD5g-0KM"
   },
   "source": [
    "Finally, let's check the results by applying our model to the test dataset."
   ]
  },
  {
   "cell_type": "code",
   "execution_count": 28,
   "metadata": {
    "id": "s82wUfXwB7ew"
   },
   "outputs": [],
   "source": [
    "# put model in evaluation mode\n",
    "model.eval()\n",
    "# moving model to cpu for inference \n",
    "model.to('cpu')\n",
    "\n",
    "# creating arrays to save predictions\n",
    "y_true = []\n",
    "y_pred = []\n",
    "images_ = []\n",
    "# disable all gradients things\n",
    "with torch.no_grad():\n",
    "        for data in iter(testloader):\n",
    "            images, labels = data\n",
    "            outputs = model(images)\n",
    "            for i in range(outputs.shape[0]):\n",
    "                images_.append(images[i].unsqueeze(0))\n",
    "                ps = torch.exp(outputs[i])\n",
    "                y_pred.append(np.argmax(ps))\n",
    "                y_true.append(labels[i].item())\n"
   ]
  },
  {
   "cell_type": "markdown",
   "metadata": {
    "id": "fYT3tdzSOFDk"
   },
   "source": [
    "Firstly, let's examine the confusion matrix."
   ]
  },
  {
   "cell_type": "code",
   "execution_count": 29,
   "metadata": {
    "colab": {
     "base_uri": "https://localhost:8080/",
     "height": 597
    },
    "id": "JJgdIZzH95aN",
    "outputId": "b88c5880-1521-4473-d152-fecacf935e66"
   },
   "outputs": [
    {
     "name": "stdout",
     "output_type": "stream",
     "text": [
      "Confusion matrix\n"
     ]
    },
    {
     "data": {
      "image/png": "[encoded data removed]",
      "text/plain": [
       "<Figure size 720x720 with 2 Axes>"
      ]
     },
     "metadata": {
      "needs_background": "light"
     },
     "output_type": "display_data"
    }
   ],
   "source": [
    "from sklearn.metrics import ConfusionMatrixDisplay, confusion_matrix\n",
    "\n",
    "print(\"Confusion matrix\")\n",
    "cm = confusion_matrix(y_true, y_pred)\n",
    "\n",
    "disp = ConfusionMatrixDisplay(confusion_matrix=cm, display_labels=labels_text)\n",
    "\n",
    "fig, ax = plt.subplots(figsize=(10,10))\n",
    "disp.plot(ax=ax)\n",
    "plt.show()"
   ]
  },
  {
   "cell_type": "markdown",
   "metadata": {
    "id": "Q43QhwGAONpx"
   },
   "source": [
    "We can also plot some of the results of the test dataset."
   ]
  },
  {
   "cell_type": "code",
   "execution_count": 30,
   "metadata": {
    "colab": {
     "base_uri": "https://localhost:8080/",
     "height": 268
    },
    "id": "piqqYX_6K9oI",
    "outputId": "4d5af5e8-a8a5-41f1-a6b7-bde77b1c9f6e"
   },
   "outputs": [
    {
     "data": {
      "image/png": "[encoded data removed]",
      "text/plain": [
       "<Figure size 648x288 with 4 Axes>"
      ]
     },
     "metadata": {},
     "output_type": "display_data"
    }
   ],
   "source": [
    "# plotting the results\n",
    "fig = plt.figure(figsize=(n_images+5,4))\n",
    "for i in range(n_images):\n",
    "    ax = fig.add_subplot(2, n_images/2, i+1, xticks=[], yticks=[])\n",
    "    ax.imshow(images_[i].resize_(1, 28, 28).numpy().squeeze())\n",
    "    ax.set_title(\"{} ({})\".format(labels_text[y_pred[i]], labels_text[y_true[i]]),\n",
    "                 color=(\"green\" if y_pred[i]==y_true[i] else \"red\"))"
   ]
  },
  {
   "cell_type": "markdown",
   "metadata": {
    "id": "YtpqM6A3MtCe"
   },
   "source": [
    "Not bad! But could you spot a problem with the algorithm? **Here's a tip**: we were very conservative when choosing the parameters of our algorithm, namely the number of compositions generated **C**, number of compositions  selected **S**, the number of linear transforms per composition **L** and the magnitude **M** of the chosen transforms.\n",
    "\n",
    "> **What do you think would happen if we increased those values?** If you have time, you can try to play with the values."
   ]
  },
  {
   "cell_type": "markdown",
   "metadata": {
    "id": "yf1WN9-LYh6g"
   },
   "source": [
    "### Shortcomings of the Algorithm"
   ]
  },
  {
   "cell_type": "markdown",
   "metadata": {
    "id": "aaty7UWZ61tC"
   },
   "source": [
    "It is possible that the transforms applied on an image are so severe that the image becomes indistinguishable, losing its target information. In such a case, we would end up feeding the model pure noise. However, pure noise yields a high loss when fed into the model, so using **MuAugment** selects for those unrecognizable images if they are created. There’s no simple solution for this issue other than to choose appropriate hyperparameters so as to reduce the generation of inscrutable images, so it’s a good idea to keep the number of transforms in a composition **C** under 4 and the magnitude of each transform **M** under 6."
   ]
  },
  {
   "cell_type": "markdown",
   "metadata": {
    "id": "KOaoG3H67kTW"
   },
   "source": [
    "As a heuristic, larger models and datasets require more regularization and would accordingly perform better with a greater magnitude **M**. This is because bigger models are more prone to overfit and lengthier datasets have a higher signal-to-noise ratio which should be reduced to an optimal point."
   ]
  }
 ],
 "metadata": {
  "accelerator": "GPU",
  "colab": {
   "collapsed_sections": [],
   "name": "muAugment.ipynb",
   "provenance": [],
   "toc_visible": true
  },
  "kernelspec": {
   "display_name": "Python 3 (ipykernel)",
   "language": "python",
   "name": "python3"
  },
  "language_info": {
   "codemirror_mode": {
    "name": "ipython",
    "version": 3
   },
   "file_extension": ".py",
   "mimetype": "text/x-python",
   "name": "python",
   "nbconvert_exporter": "python",
   "pygments_lexer": "ipython3",
   "version": "3.9.7"
  }
 },
 "nbformat": 4,
 "nbformat_minor": 1
}
